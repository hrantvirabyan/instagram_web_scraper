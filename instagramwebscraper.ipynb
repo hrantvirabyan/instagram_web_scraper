{
 "cells": [
  {
   "cell_type": "code",
   "execution_count": 3,
   "id": "1cda14b8",
   "metadata": {},
   "outputs": [],
   "source": [
    "from selenium import webdriver\n",
    "from selenium.webdriver.common.keys import Keys\n",
    "from selenium.webdriver.support import expected_conditions as EC\n",
    "from selenium.webdriver.common.by import By\n",
    "from selenium.webdriver.support.wait import WebDriverWait\n",
    "import os\n",
    "import wget\n",
    "import time"
   ]
  },
  {
   "cell_type": "code",
   "execution_count": 4,
   "id": "1cf5f773",
   "metadata": {},
   "outputs": [],
   "source": [
    "#launches chrome and goes to instagram\n",
    "driver = webdriver.Chrome()\n",
    "\n",
    "driver.get(\"http://www.instagram.com/\")\n"
   ]
  },
  {
   "cell_type": "code",
   "execution_count": 5,
   "id": "d8ead6da",
   "metadata": {},
   "outputs": [],
   "source": [
    "username = WebDriverWait(driver, 10).until(EC.element_to_be_clickable((By.CSS_SELECTOR, \"input[name='username']\")))\n",
    "password = WebDriverWait(driver, 10).until(EC.element_to_be_clickable((By.CSS_SELECTOR, \"input[name='password']\")))\n",
    "#this block of code logs into instagram\n",
    "username.clear()\n",
    "password.clear()\n",
    "username.send_keys(\"username\")\n",
    "password.send_keys(\"password\")"
   ]
  },
  {
   "cell_type": "code",
   "execution_count": 6,
   "id": "2e323e08",
   "metadata": {},
   "outputs": [],
   "source": [
    "#clicks the login button\n",
    "login = WebDriverWait(driver, 10).until(EC.element_to_be_clickable((By.CSS_SELECTOR, \"button[type='submit']\"))).click()"
   ]
  },
  {
   "cell_type": "code",
   "execution_count": 7,
   "id": "0eb64574",
   "metadata": {},
   "outputs": [
    {
     "ename": "TimeoutException",
     "evalue": "Message: \nStacktrace:\nBacktrace:\n\tOrdinal0 [0x0062ACD3+2075859]\n\tOrdinal0 [0x005BEE61+1633889]\n\tOrdinal0 [0x004BB7BD+571325]\n\tOrdinal0 [0x004EAC2F+764975]\n\tOrdinal0 [0x004EAE1B+765467]\n\tOrdinal0 [0x0051D0F2+970994]\n\tOrdinal0 [0x00507364+881508]\n\tOrdinal0 [0x0051B56A+963946]\n\tOrdinal0 [0x00507136+880950]\n\tOrdinal0 [0x004DFEFD+720637]\n\tOrdinal0 [0x004E0F3F+724799]\n\tGetHandleVerifier [0x008DEED2+2769538]\n\tGetHandleVerifier [0x008D0D95+2711877]\n\tGetHandleVerifier [0x006BA03A+521194]\n\tGetHandleVerifier [0x006B8DA0+516432]\n\tOrdinal0 [0x005C682C+1665068]\n\tOrdinal0 [0x005CB128+1683752]\n\tOrdinal0 [0x005CB215+1683989]\n\tOrdinal0 [0x005D6484+1729668]\n\tBaseThreadInitThunk [0x75D2FA29+25]\n\tRtlGetAppContainerNamedObjectPath [0x77097BBE+286]\n\tRtlGetAppContainerNamedObjectPath [0x77097B8E+238]\n",
     "output_type": "error",
     "traceback": [
      "\u001b[1;31m---------------------------------------------------------------------------\u001b[0m",
      "\u001b[1;31mTimeoutException\u001b[0m                          Traceback (most recent call last)",
      "Cell \u001b[1;32mIn [7], line 2\u001b[0m\n\u001b[0;32m      1\u001b[0m \u001b[38;5;66;03m#closes the pop up\u001b[39;00m\n\u001b[1;32m----> 2\u001b[0m not_now \u001b[38;5;241m=\u001b[39m \u001b[43mWebDriverWait\u001b[49m\u001b[43m(\u001b[49m\u001b[43mdriver\u001b[49m\u001b[43m,\u001b[49m\u001b[43m \u001b[49m\u001b[38;5;241;43m10\u001b[39;49m\u001b[43m)\u001b[49m\u001b[38;5;241;43m.\u001b[39;49m\u001b[43muntil\u001b[49m\u001b[43m(\u001b[49m\u001b[43mEC\u001b[49m\u001b[38;5;241;43m.\u001b[39;49m\u001b[43melement_to_be_clickable\u001b[49m\u001b[43m(\u001b[49m\u001b[43m(\u001b[49m\u001b[43mBy\u001b[49m\u001b[38;5;241;43m.\u001b[39;49m\u001b[43mXPATH\u001b[49m\u001b[43m,\u001b[49m\u001b[43m \u001b[49m\u001b[38;5;124;43m\"\u001b[39;49m\u001b[38;5;124;43m//button[contains(text(), \u001b[39;49m\u001b[38;5;124;43m'\u001b[39;49m\u001b[38;5;124;43mNot Now\u001b[39;49m\u001b[38;5;124;43m'\u001b[39;49m\u001b[38;5;124;43m)]\u001b[39;49m\u001b[38;5;124;43m\"\u001b[39;49m\u001b[43m)\u001b[49m\u001b[43m)\u001b[49m\u001b[43m)\u001b[49m\u001b[38;5;241m.\u001b[39mclick()\n",
      "File \u001b[1;32m~\\AppData\\Local\\Programs\\Python\\Python310\\lib\\site-packages\\selenium\\webdriver\\support\\wait.py:90\u001b[0m, in \u001b[0;36mWebDriverWait.until\u001b[1;34m(self, method, message)\u001b[0m\n\u001b[0;32m     88\u001b[0m     \u001b[38;5;28;01mif\u001b[39;00m time\u001b[38;5;241m.\u001b[39mmonotonic() \u001b[38;5;241m>\u001b[39m end_time:\n\u001b[0;32m     89\u001b[0m         \u001b[38;5;28;01mbreak\u001b[39;00m\n\u001b[1;32m---> 90\u001b[0m \u001b[38;5;28;01mraise\u001b[39;00m TimeoutException(message, screen, stacktrace)\n",
      "\u001b[1;31mTimeoutException\u001b[0m: Message: \nStacktrace:\nBacktrace:\n\tOrdinal0 [0x0062ACD3+2075859]\n\tOrdinal0 [0x005BEE61+1633889]\n\tOrdinal0 [0x004BB7BD+571325]\n\tOrdinal0 [0x004EAC2F+764975]\n\tOrdinal0 [0x004EAE1B+765467]\n\tOrdinal0 [0x0051D0F2+970994]\n\tOrdinal0 [0x00507364+881508]\n\tOrdinal0 [0x0051B56A+963946]\n\tOrdinal0 [0x00507136+880950]\n\tOrdinal0 [0x004DFEFD+720637]\n\tOrdinal0 [0x004E0F3F+724799]\n\tGetHandleVerifier [0x008DEED2+2769538]\n\tGetHandleVerifier [0x008D0D95+2711877]\n\tGetHandleVerifier [0x006BA03A+521194]\n\tGetHandleVerifier [0x006B8DA0+516432]\n\tOrdinal0 [0x005C682C+1665068]\n\tOrdinal0 [0x005CB128+1683752]\n\tOrdinal0 [0x005CB215+1683989]\n\tOrdinal0 [0x005D6484+1729668]\n\tBaseThreadInitThunk [0x75D2FA29+25]\n\tRtlGetAppContainerNamedObjectPath [0x77097BBE+286]\n\tRtlGetAppContainerNamedObjectPath [0x77097B8E+238]\n"
     ]
    }
   ],
   "source": [
    "#closes the pop up\n",
    "not_now = WebDriverWait(driver, 10).until(EC.element_to_be_clickable((By.XPATH, \"//button[contains(text(), 'Not Now')]\"))).click()"
   ]
  },
  {
   "cell_type": "code",
   "execution_count": null,
   "id": "15f64f8a",
   "metadata": {},
   "outputs": [],
   "source": [
    "#closes the pop up\n",
    "not_now1 = WebDriverWait(driver, 10).until(EC.element_to_be_clickable((By.XPATH, \"//button[contains(text(), 'Not Now')]\"))).click()"
   ]
  },
  {
   "cell_type": "code",
   "execution_count": null,
   "id": "f419a351",
   "metadata": {},
   "outputs": [],
   "source": [
    "#clicks the search icon\n",
    "search=WebDriverWait(driver, 20).until(EC.element_to_be_clickable((By.CSS_SELECTOR, \"svg[aria-label='Search']\"))).click()"
   ]
  },
  {
   "cell_type": "code",
   "execution_count": null,
   "id": "c3647bfd",
   "metadata": {},
   "outputs": [],
   "source": [
    "#searches for the #dog in the search\n",
    "searchbox= WebDriverWait(driver, 10).until(EC.element_to_be_clickable((By.XPATH, \"//input[@placeholder='Search']\")))\n",
    "searchbox.clear()\n",
    "keyword =\"#dog\"\n",
    "searchbox.send_keys(keyword)\n"
   ]
  },
  {
   "cell_type": "code",
   "execution_count": null,
   "id": "afc448cc",
   "metadata": {},
   "outputs": [],
   "source": [
    "#enter in order to search\n",
    "time.sleep(3)\n",
    "searchbox.send_keys(Keys.ENTER)\n",
    "time.sleep(3)"
   ]
  },
  {
   "cell_type": "code",
   "execution_count": null,
   "id": "14d8e9b6",
   "metadata": {},
   "outputs": [],
   "source": [
    "searchbox.send_keys(Keys.ENTER)"
   ]
  },
  {
   "cell_type": "code",
   "execution_count": null,
   "id": "7dd32ecc",
   "metadata": {},
   "outputs": [],
   "source": [
    "#scroll down 2 times\n",
    "#increase the range to sroll more\n",
    "n_scrolls = 2\n",
    "for j in range(0, n_scrolls):\n",
    "    driver.execute_script(\"window.scrollTo(0, document.body.scrollHeight);\")\n",
    "    time.sleep(5)"
   ]
  },
  {
   "cell_type": "code",
   "execution_count": null,
   "id": "bbc32623",
   "metadata": {},
   "outputs": [],
   "source": []
  },
  {
   "cell_type": "code",
   "execution_count": null,
   "id": "eb9990ed",
   "metadata": {},
   "outputs": [],
   "source": [
    "path = os.getcwd()\n",
    "path = os.path.join(path, keyword[1:] + \"s\")\n",
    "\n",
    "if path != True:\n",
    "    #create the directory\n",
    "    os.mkdir(path)\n",
    "\n",
    "path"
   ]
  }
 ],
 "metadata": {
  "kernelspec": {
   "display_name": "Python 3 (ipykernel)",
   "language": "python",
   "name": "python3"
  },
  "language_info": {
   "codemirror_mode": {
    "name": "ipython",
    "version": 3
   },
   "file_extension": ".py",
   "mimetype": "text/x-python",
   "name": "python",
   "nbconvert_exporter": "python",
   "pygments_lexer": "ipython3",
   "version": "3.10.7"
  },
  "vscode": {
   "interpreter": {
    "hash": "1664cbbfa3ed5006d1179745b4044c4a58d83f90b5460ecb619f0bf2741036e0"
   }
  }
 },
 "nbformat": 4,
 "nbformat_minor": 5
}
