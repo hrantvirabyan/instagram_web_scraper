{
 "cells": [
  {
   "cell_type": "code",
   "execution_count": 1,
   "id": "1cda14b8",
   "metadata": {},
   "outputs": [],
   "source": [
    "from selenium import webdriver\n",
    "from selenium.webdriver.common.keys import Keys\n",
    "from selenium.webdriver.support import expected_conditions as EC\n",
    "from selenium.webdriver.common.by import By\n",
    "from selenium.webdriver.support.wait import WebDriverWait\n",
    "import os\n",
    "import wget\n",
    "import time"
   ]
  },
  {
   "cell_type": "code",
   "execution_count": 2,
   "id": "1cf5f773",
   "metadata": {},
   "outputs": [],
   "source": [
    "#launches chrome and goes to instagram\n",
    "driver = webdriver.Chrome()\n",
    "\n",
    "driver.get(\"http://www.instagram.com/\")\n"
   ]
  },
  {
   "cell_type": "code",
   "execution_count": 15,
   "id": "d8ead6da",
   "metadata": {},
   "outputs": [],
   "source": [
    "username = WebDriverWait(driver, 10).until(EC.element_to_be_clickable((By.CSS_SELECTOR, \"input[name='username']\")))\n",
    "password = WebDriverWait(driver, 10).until(EC.element_to_be_clickable((By.CSS_SELECTOR, \"input[name='password']\")))\n",
    "#this block of code logs into instagram\n",
    "username.clear()\n",
    "password.clear()\n",
    "username.send_keys(\"username\")\n",
    "password.send_keys(\"password\")"
   ]
  },
  {
   "cell_type": "code",
   "execution_count": 16,
   "id": "2e323e08",
   "metadata": {},
   "outputs": [],
   "source": [
    "#clicks the login button\n",
    "login = WebDriverWait(driver, 10).until(EC.element_to_be_clickable((By.CSS_SELECTOR, \"button[type='submit']\"))).click()"
   ]
  },
  {
   "cell_type": "code",
   "execution_count": 17,
   "id": "0eb64574",
   "metadata": {},
   "outputs": [],
   "source": [
    "#closes the pop up\n",
    "not_now = WebDriverWait(driver, 10).until(EC.element_to_be_clickable((By.XPATH, \"//button[contains(text(), 'Not Now')]\"))).click()"
   ]
  },
  {
   "cell_type": "code",
   "execution_count": 18,
   "id": "15f64f8a",
   "metadata": {},
   "outputs": [],
   "source": [
    "#closes the pop up\n",
    "not_now1 = WebDriverWait(driver, 10).until(EC.element_to_be_clickable((By.XPATH, \"//button[contains(text(), 'Not Now')]\"))).click()"
   ]
  },
  {
   "cell_type": "code",
   "execution_count": 19,
   "id": "f419a351",
   "metadata": {},
   "outputs": [],
   "source": [
    "#clicks the search icon\n",
    "search=WebDriverWait(driver, 20).until(EC.element_to_be_clickable((By.CSS_SELECTOR, \"svg[aria-label='Search']\"))).click()"
   ]
  },
  {
   "cell_type": "code",
   "execution_count": 20,
   "id": "c3647bfd",
   "metadata": {},
   "outputs": [],
   "source": [
    "#searches for the #dog in the search\n",
    "searchbox= WebDriverWait(driver, 10).until(EC.element_to_be_clickable((By.XPATH, \"//input[@placeholder='Search']\")))\n",
    "searchbox.clear()\n",
    "keyword =\"#dog\"\n",
    "searchbox.send_keys(keyword)\n"
   ]
  },
  {
   "cell_type": "code",
   "execution_count": 21,
   "id": "afc448cc",
   "metadata": {},
   "outputs": [],
   "source": [
    "#enter in order to search\n",
    "time.sleep(3)\n",
    "searchbox.send_keys(Keys.ENTER)\n",
    "time.sleep(3)"
   ]
  },
  {
   "cell_type": "code",
   "execution_count": 22,
   "id": "14d8e9b6",
   "metadata": {},
   "outputs": [],
   "source": [
    "searchbox.send_keys(Keys.ENTER)"
   ]
  },
  {
   "cell_type": "code",
   "execution_count": 23,
   "id": "7dd32ecc",
   "metadata": {},
   "outputs": [],
   "source": [
    "#scroll down 2 times\n",
    "#increase the range to sroll more\n",
    "n_scrolls = 2\n",
    "for j in range(0, n_scrolls):\n",
    "    driver.execute_script(\"window.scrollTo(0, document.body.scrollHeight);\")\n",
    "    time.sleep(5)"
   ]
  },
  {
   "cell_type": "code",
   "execution_count": null,
   "id": "bbc32623",
   "metadata": {},
   "outputs": [],
   "source": []
  },
  {
   "cell_type": "code",
   "execution_count": 24,
   "id": "eb9990ed",
   "metadata": {},
   "outputs": [
    {
     "ename": "SyntaxError",
     "evalue": "expected ':' (3327314304.py, line 4)",
     "output_type": "error",
     "traceback": [
      "\u001b[1;36m  Cell \u001b[1;32mIn [24], line 4\u001b[1;36m\u001b[0m\n\u001b[1;33m    if path != True\u001b[0m\n\u001b[1;37m                   ^\u001b[0m\n\u001b[1;31mSyntaxError\u001b[0m\u001b[1;31m:\u001b[0m expected ':'\n"
     ]
    }
   ],
   "source": [
    "path = os.getcwd()\n",
    "path = os.path.join(path, keyword[1:] + \"s\")\n",
    "\n",
    "if path != True:\n",
    "    #create the directory\n",
    "    os.mkdir(path)\n",
    "\n",
    "path"
   ]
  }
 ],
 "metadata": {
  "kernelspec": {
   "display_name": "Python 3 (ipykernel)",
   "language": "python",
   "name": "python3"
  },
  "language_info": {
   "codemirror_mode": {
    "name": "ipython",
    "version": 3
   },
   "file_extension": ".py",
   "mimetype": "text/x-python",
   "name": "python",
   "nbconvert_exporter": "python",
   "pygments_lexer": "ipython3",
   "version": "3.10.7"
  },
  "vscode": {
   "interpreter": {
    "hash": "1664cbbfa3ed5006d1179745b4044c4a58d83f90b5460ecb619f0bf2741036e0"
   }
  }
 },
 "nbformat": 4,
 "nbformat_minor": 5
}
