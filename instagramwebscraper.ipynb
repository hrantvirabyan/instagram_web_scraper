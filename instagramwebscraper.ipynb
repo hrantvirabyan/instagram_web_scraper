{
 "cells": [
  {
   "cell_type": "code",
   "execution_count": 217,
   "id": "1cda14b8",
   "metadata": {},
   "outputs": [],
   "source": [
    "from selenium import webdriver\n",
    "from selenium.webdriver.common.keys import Keys\n",
    "from selenium.webdriver.support import expected_conditions as EC\n",
    "from selenium.webdriver.common.by import By\n",
    "from selenium.webdriver.support.wait import WebDriverWait\n",
    "import os\n",
    "import wget\n",
    "import time\n",
    "import requests\n",
    "import urllib.request"
   ]
  },
  {
   "cell_type": "code",
   "execution_count": 218,
   "id": "1cf5f773",
   "metadata": {},
   "outputs": [],
   "source": [
    "#launches chrome and goes to instagram\n",
    "driver = webdriver.Chrome()\n",
    "\n",
    "driver.get(\"http://www.instagram.com/\")\n"
   ]
  },
  {
   "cell_type": "code",
   "execution_count": 219,
   "id": "d8ead6da",
   "metadata": {},
   "outputs": [],
   "source": [
    "username = WebDriverWait(driver, 10).until(EC.element_to_be_clickable((By.CSS_SELECTOR, \"input[name='username']\")))#do not put your login password here\n",
    "password = WebDriverWait(driver, 10).until(EC.element_to_be_clickable((By.CSS_SELECTOR, \"input[name='password']\")))\n",
    "#this block of code logs into instagram\n",
    "username.clear()\n",
    "password.clear()\n",
    "username.send_keys(\"YOUR_USERNAME\") #put them here\n",
    "password.send_keys(\"YOUR_PASSWORD\")"
   ]
  },
  {
   "cell_type": "code",
   "execution_count": 220,
   "id": "2e323e08",
   "metadata": {},
   "outputs": [],
   "source": [
    "#clicks the login button\n",
    "login = WebDriverWait(driver, 10).until(EC.element_to_be_clickable((By.CSS_SELECTOR, \"button[type='submit']\"))).click()"
   ]
  },
  {
   "cell_type": "code",
   "execution_count": 221,
   "id": "0eb64574",
   "metadata": {},
   "outputs": [],
   "source": [
    "#closes the pop up\n",
    "not_now = WebDriverWait(driver, 10).until(EC.element_to_be_clickable((By.XPATH, \"//button[contains(text(), 'Not Now')]\"))).click()"
   ]
  },
  {
   "cell_type": "code",
   "execution_count": 222,
   "id": "15f64f8a",
   "metadata": {},
   "outputs": [],
   "source": [
    "#closes the pop up\n",
    "not_now1 = WebDriverWait(driver, 10).until(EC.element_to_be_clickable((By.XPATH, \"//button[contains(text(), 'Not Now')]\"))).click()"
   ]
  },
  {
   "cell_type": "code",
   "execution_count": 223,
   "id": "f419a351",
   "metadata": {
    "scrolled": true
   },
   "outputs": [],
   "source": [
    "#clicks the search icon\n",
    "search=WebDriverWait(driver, 20).until(EC.element_to_be_clickable((By.CSS_SELECTOR, \"svg[aria-label='Search']\"))).click()"
   ]
  },
  {
   "cell_type": "code",
   "execution_count": 224,
   "id": "c3647bfd",
   "metadata": {},
   "outputs": [
    {
     "name": "stdout",
     "output_type": "stream",
     "text": [
      "What images do you want to download?memes\n"
     ]
    }
   ],
   "source": [
    "#searches for the #dog in the search\n",
    "searchbox= WebDriverWait(driver, 10).until(EC.element_to_be_clickable((By.XPATH, \"//input[@placeholder='Search']\")))\n",
    "searchbox.clear()\n",
    "keyword =\"#\" + input('What images do you want to download?')\n",
    "searchbox.send_keys(keyword)\n"
   ]
  },
  {
   "cell_type": "code",
   "execution_count": 225,
   "id": "afc448cc",
   "metadata": {},
   "outputs": [],
   "source": [
    "#enter in order to search\n",
    "time.sleep(1)\n",
    "searchbox.send_keys(Keys.ENTER)\n",
    "time.sleep(1)"
   ]
  },
  {
   "cell_type": "code",
   "execution_count": 226,
   "id": "14d8e9b6",
   "metadata": {},
   "outputs": [],
   "source": [
    "searchbox.send_keys(Keys.ENTER)"
   ]
  },
  {
   "cell_type": "code",
   "execution_count": 227,
   "id": "7dd32ecc",
   "metadata": {},
   "outputs": [],
   "source": [
    "#scroll down 2 times\n",
    "#increase the range to sroll more\n",
    "n_scrolls = 2\n",
    "for j in range(0, n_scrolls):\n",
    "    driver.execute_script(\"window.scrollTo(0, document.body.scrollHeight);\")\n",
    "    time.sleep(5)"
   ]
  },
  {
   "cell_type": "code",
   "execution_count": 228,
   "id": "bbc32623",
   "metadata": {},
   "outputs": [],
   "source": [
    "images = driver.find_elements(By.XPATH, \"//img\")"
   ]
  },
  {
   "cell_type": "code",
   "execution_count": 229,
   "id": "eb9990ed",
   "metadata": {},
   "outputs": [],
   "source": [
    "import urllib.request\n",
    "from urllib.parse import urlparse\n"
   ]
  },
  {
   "cell_type": "code",
   "execution_count": 230,
   "id": "21d717b0",
   "metadata": {},
   "outputs": [],
   "source": [
    "path = r'C:\\Users\\hvira\\Documents\\Instagram Login Automation'\n",
    "\n",
    "# Try to create the folder\n",
    "try:\n",
    "    os.makedirs(os.path.join(path, 'Saved Images'))\n",
    "except FileExistsError:\n",
    "    # The folder already exists, so do nothing\n",
    "    pass"
   ]
  },
  {
   "cell_type": "code",
   "execution_count": 231,
   "id": "fe58f861",
   "metadata": {},
   "outputs": [],
   "source": [
    "# Select the profile picture to exclude using its XPath\n",
    "for i in range(len(images)):\n",
    "    image = driver.find_elements(By.TAG_NAME, \"img\")[i]\n",
    "    class_name = image.get_attribute(\"class\")\n",
    "# Download the images to folder Saved Images\n",
    "    if \"x6umtig x1b1mbwd xaqea5y xav7gou xk390pu x5yr21d xpdipgo xdj266r x11i5rnm xat24cr x1mh8g0r xexx8yu x4uap5 x18d9i69 xkhd6sd x11njtxf xh8yej3\" not in class_name:\n",
    "        src = image.get_attribute(\"src\")\n",
    "        parsed_url = urlparse(src)\n",
    "        file_name = os.path.join(\"Saved Images\", os.path.basename(parsed_url.path))\n",
    "        urllib.request.urlretrieve(src, file_name)"
   ]
  },
  {
   "cell_type": "code",
   "execution_count": null,
   "id": "d7f8c9e2",
   "metadata": {},
   "outputs": [],
   "source": []
  }
 ],
 "metadata": {
  "kernelspec": {
   "display_name": "Python 3 (ipykernel)",
   "language": "python",
   "name": "python3"
  },
  "language_info": {
   "codemirror_mode": {
    "name": "ipython",
    "version": 3
   },
   "file_extension": ".py",
   "mimetype": "text/x-python",
   "name": "python",
   "nbconvert_exporter": "python",
   "pygments_lexer": "ipython3",
   "version": "3.10.7"
  },
  "vscode": {
   "interpreter": {
    "hash": "1664cbbfa3ed5006d1179745b4044c4a58d83f90b5460ecb619f0bf2741036e0"
   }
  }
 },
 "nbformat": 4,
 "nbformat_minor": 5
}
